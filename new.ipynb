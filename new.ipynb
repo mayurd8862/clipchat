{
 "cells": [
  {
   "cell_type": "code",
   "execution_count": 36,
   "metadata": {},
   "outputs": [],
   "source": [
    "from langchain_community.document_loaders import YoutubeLoader\n",
    "loader = YoutubeLoader.from_youtube_url(\n",
    "    \"https://youtu.be/om7iYSucLrk?si=XDR21VZgsgqzMMJj\", add_video_info=True\n",
    ")\n",
    "doc = loader.load()"
   ]
  },
  {
   "cell_type": "code",
   "execution_count": 39,
   "metadata": {},
   "outputs": [
    {
     "name": "stdout",
     "output_type": "stream",
     "text": [
      "{'source': 'om7iYSucLrk', 'title': 'AI in a Minute: Generative AI', 'description': 'Unknown', 'view_count': 32210, 'thumbnail_url': 'https://i.ytimg.com/vi/om7iYSucLrk/hq720.jpg', 'publish_date': '2023-12-04 00:00:00', 'length': 60, 'author': 'Microsoft Cloud'}\n",
      "Metadata:\n",
      "source: om7iYSucLrk\n",
      "title: AI in a Minute: Generative AI\n",
      "description: Unknown\n",
      "view_count: 32210\n",
      "thumbnail_url: https://i.ytimg.com/vi/om7iYSucLrk/hq720.jpg\n",
      "publish_date: 2023-12-04 00:00:00\n",
      "length: 60\n",
      "author: Microsoft Cloud\n"
     ]
    }
   ],
   "source": [
    "from langchain_community.document_loaders import YoutubeLoader\n",
    "\n",
    "# Load the document from the YouTube URL\n",
    "loader = YoutubeLoader.from_youtube_url(\n",
    "    \"https://youtu.be/om7iYSucLrk?si=XDR21VZgsgqzMMJj\", add_video_info=True\n",
    ")\n",
    "docs = loader.load()\n",
    "\n",
    "# Access the metadata\n",
    "# Assuming docs is a list with one dictionary\n",
    "if docs and isinstance(docs, list) and len(docs) > 0:\n",
    "    metadata = docs[0].metadata\n",
    "    # print(metadata)\n",
    "    print(\"Metadata:\")\n",
    "    for key, value in metadata.items():\n",
    "        print(f\"{key}: {value}\")\n",
    "else:\n",
    "    print(\"No documents found or unexpected format.\")\n"
   ]
  },
  {
   "cell_type": "code",
   "execution_count": 23,
   "metadata": {},
   "outputs": [],
   "source": [
    "# print(type(doc[0][\"page_content\"]))"
   ]
  },
  {
   "cell_type": "code",
   "execution_count": 30,
   "metadata": {},
   "outputs": [
    {
     "name": "stdout",
     "output_type": "stream",
     "text": [
      "[Document(page_content=\"This is generative AI, the innovative tool that's\\nmaking AI a household name. Say goodbye to the blank page. With generative AI, you have a superpowered partner that's able to create\\noriginal content on command- images, text, music, even code. But where does all this power come from? Large language models train\\non huge libraries of data. No, not quite. Now that's a data set. So, when you write a prompt, AI is able to identify different patterns and understand you. The more detailed your prompt, the more accurate your output will be. With generative AI, you have a companion to achieve anything. All you have to do is ask.\", metadata={'source': 'om7iYSucLrk', 'title': 'AI in a Minute: Generative AI', 'description': 'Unknown', 'view_count': 32210, 'thumbnail_url': 'https://i.ytimg.com/vi/om7iYSucLrk/hq720.jpg', 'publish_date': '2023-12-04 00:00:00', 'length': 60, 'author': 'Microsoft Cloud'})]\n"
     ]
    }
   ],
   "source": [
    "print(doc)"
   ]
  },
  {
   "cell_type": "code",
   "execution_count": 35,
   "metadata": {},
   "outputs": [
    {
     "ename": "TypeError",
     "evalue": "'Document' object is not subscriptable",
     "output_type": "error",
     "traceback": [
      "\u001b[1;31m---------------------------------------------------------------------------\u001b[0m",
      "\u001b[1;31mTypeError\u001b[0m                                 Traceback (most recent call last)",
      "Cell \u001b[1;32mIn[35], line 1\u001b[0m\n\u001b[1;32m----> 1\u001b[0m page_content \u001b[38;5;241m=\u001b[39m \u001b[43mdoc\u001b[49m\u001b[43m[\u001b[49m\u001b[38;5;241;43m0\u001b[39;49m\u001b[43m]\u001b[49m\u001b[43m[\u001b[49m\u001b[38;5;124;43m\"\u001b[39;49m\u001b[38;5;124;43mpage_content\u001b[39;49m\u001b[38;5;124;43m\"\u001b[39;49m\u001b[43m]\u001b[49m\n\u001b[0;32m      2\u001b[0m \u001b[38;5;66;03m# metadata = doc['metadata']\u001b[39;00m\n\u001b[0;32m      3\u001b[0m page_content\n",
      "\u001b[1;31mTypeError\u001b[0m: 'Document' object is not subscriptable"
     ]
    }
   ],
   "source": [
    "page_content = doc[0][\"page_content\"]\n",
    "# metadata = doc['metadata']\n",
    "page_content"
   ]
  },
  {
   "cell_type": "code",
   "execution_count": 25,
   "metadata": {},
   "outputs": [
    {
     "name": "stdout",
     "output_type": "stream",
     "text": [
      "Document(page_content='♪ Hail to the victors valiant ♪ ♪ Hail to the conquering heroes ♪ ♪ Hail, hail to Michigan ♪ ♪ The leaders and best ♪', metadata={'source': 'https://www.youtube.com/watch?v=TKCMw0utiak&t=0s', 'title': 'The Victors  - University of Michigan 2021 Commencement', 'description': 'Unknown', 'view_count': 17364, 'thumbnail_url': 'https://i.ytimg.com/vi/TKCMw0utiak/hq720.jpg?sqp=-oaymwEXCNUGEOADIAQqCwjVARCqCBh4INgESFo&rs=AOn4CLDiaSjMxDk3xA51RCAEAW_y-G_MoQ', 'publish_date': '2021-05-04 00:00:00', 'length': 167, 'author': 'University of Michigan', 'start_seconds': 0, 'start_timestamp': '00:00:00'})\n",
      "\n",
      "Document(page_content='♪ Hail to the victors valiant ♪ ♪ Hail to the conquering heroes ♪ ♪ Hail, hail to Michigan ♪ ♪ The champions of the west ♪ ♪ Hail to the victors valiant ♪ ♪ Hail to the conquering heroes ♪ ♪ Hail, hail to Michigan ♪', metadata={'source': 'https://www.youtube.com/watch?v=TKCMw0utiak&t=30s', 'title': 'The Victors  - University of Michigan 2021 Commencement', 'description': 'Unknown', 'view_count': 17364, 'thumbnail_url': 'https://i.ytimg.com/vi/TKCMw0utiak/hq720.jpg?sqp=-oaymwEXCNUGEOADIAQqCwjVARCqCBh4INgESFo&rs=AOn4CLDiaSjMxDk3xA51RCAEAW_y-G_MoQ', 'publish_date': '2021-05-04 00:00:00', 'length': 167, 'author': 'University of Michigan', 'start_seconds': 30, 'start_timestamp': '00:00:30'})\n",
      "\n",
      "Document(page_content=\"♪ The leaders and best ♪ ♪ Hail to victors valiant ♪ ♪ Hail to the conquering heroes ♪ ♪ Hail, hail to Michigan ♪ ♪ The champions of the west ♪ (choir clapping rhythmically) - Go blue! (choir clapping rhythmically) Go blue! ♪ It's great to be ♪ ♪ A Michigan Wolverine ♪\\n- Go blue!\", metadata={'source': 'https://www.youtube.com/watch?v=TKCMw0utiak&t=60s', 'title': 'The Victors  - University of Michigan 2021 Commencement', 'description': 'Unknown', 'view_count': 17364, 'thumbnail_url': 'https://i.ytimg.com/vi/TKCMw0utiak/hq720.jpg?sqp=-oaymwEXCNUGEOADIAQqCwjVARCqCBh4INgESFo&rs=AOn4CLDiaSjMxDk3xA51RCAEAW_y-G_MoQ', 'publish_date': '2021-05-04 00:00:00', 'length': 167, 'author': 'University of Michigan', 'start_seconds': 60, 'start_timestamp': '00:01:00'})\n",
      "\n",
      "Document(page_content=\"♪ It's great to be ♪ ♪ A Michigan Wolverine ♪\\n- Go blue! ♪ It's great to be ♪\\n(choir scatting) ♪ a Michigan Wolverine ♪\\n(choir scatting) ♪ It's great to be ♪\\n(choir scatting) ♪ A Michigan ♪\\n(choir scatting) - Let's go blue! ♪ Hail to the victors valiant ♪ ♪ Hail to the conquering heroes ♪ ♪ Hail, hail to Michigan ♪ ♪ The leaders and best ♪ ♪ Hail to the victors valiant ♪ ♪ Hail to the conquering heroes ♪ ♪ Hail, hail to Michigan ♪ ♪ The champions of the west ♪\", metadata={'source': 'https://www.youtube.com/watch?v=TKCMw0utiak&t=90s', 'title': 'The Victors  - University of Michigan 2021 Commencement', 'description': 'Unknown', 'view_count': 17364, 'thumbnail_url': 'https://i.ytimg.com/vi/TKCMw0utiak/hq720.jpg?sqp=-oaymwEXCNUGEOADIAQqCwjVARCqCBh4INgESFo&rs=AOn4CLDiaSjMxDk3xA51RCAEAW_y-G_MoQ', 'publish_date': '2021-05-04 00:00:00', 'length': 167, 'author': 'University of Michigan', 'start_seconds': 90, 'start_timestamp': '00:01:30'})\n",
      "\n",
      "Document(page_content='♪ Hail to the victors valiant ♪ ♪ Hail to the conquering heroes ♪ ♪ Hail to the blue, hail to the blue ♪ ♪ Hail to the blue, hail to the blue ♪ ♪ Hail to the blue, hail to the blue ♪ ♪ Hail to the blue, hail to the blue ♪ ♪ Hail to the blue, hail to the blue ♪ ♪ Hail to the blue, hail ♪ ♪ To Michigan ♪ ♪ The champions of the west ♪', metadata={'source': 'https://www.youtube.com/watch?v=TKCMw0utiak&t=120s', 'title': 'The Victors  - University of Michigan 2021 Commencement', 'description': 'Unknown', 'view_count': 17364, 'thumbnail_url': 'https://i.ytimg.com/vi/TKCMw0utiak/hq720.jpg?sqp=-oaymwEXCNUGEOADIAQqCwjVARCqCBh4INgESFo&rs=AOn4CLDiaSjMxDk3xA51RCAEAW_y-G_MoQ', 'publish_date': '2021-05-04 00:00:00', 'length': 167, 'author': 'University of Michigan', 'start_seconds': 120, 'start_timestamp': '00:02:00'})\n",
      "\n",
      "Document(page_content='♪ Go blue ♪', metadata={'source': 'https://www.youtube.com/watch?v=TKCMw0utiak&t=150s', 'title': 'The Victors  - University of Michigan 2021 Commencement', 'description': 'Unknown', 'view_count': 17364, 'thumbnail_url': 'https://i.ytimg.com/vi/TKCMw0utiak/hq720.jpg?sqp=-oaymwEXCNUGEOADIAQqCwjVARCqCBh4INgESFo&rs=AOn4CLDiaSjMxDk3xA51RCAEAW_y-G_MoQ', 'publish_date': '2021-05-04 00:00:00', 'length': 167, 'author': 'University of Michigan', 'start_seconds': 150, 'start_timestamp': '00:02:30'})\n"
     ]
    }
   ],
   "source": [
    "from langchain_community.document_loaders.youtube import TranscriptFormat\n",
    "\n",
    "loader = YoutubeLoader.from_youtube_url(\n",
    "    \"https://www.youtube.com/watch?v=TKCMw0utiak\",\n",
    "    add_video_info=True,\n",
    "    transcript_format=TranscriptFormat.CHUNKS,\n",
    "    chunk_size_seconds=30,\n",
    ")\n",
    "print(\"\\n\\n\".join(map(repr, loader.load())))"
   ]
  },
  {
   "cell_type": "code",
   "execution_count": 26,
   "metadata": {},
   "outputs": [
    {
     "ename": "NameError",
     "evalue": "name 'docs' is not defined",
     "output_type": "error",
     "traceback": [
      "\u001b[1;31m---------------------------------------------------------------------------\u001b[0m",
      "\u001b[1;31mNameError\u001b[0m                                 Traceback (most recent call last)",
      "Cell \u001b[1;32mIn[26], line 2\u001b[0m\n\u001b[0;32m      1\u001b[0m \u001b[38;5;66;03m# Returns a list of Documents, which can be easily viewed or parsed\u001b[39;00m\n\u001b[1;32m----> 2\u001b[0m \u001b[43mdocs\u001b[49m[\u001b[38;5;241m0\u001b[39m]\u001b[38;5;241m.\u001b[39mpage_content[\u001b[38;5;241m0\u001b[39m:\u001b[38;5;241m500\u001b[39m]\n",
      "\u001b[1;31mNameError\u001b[0m: name 'docs' is not defined"
     ]
    }
   ],
   "source": [
    "# Returns a list of Documents, which can be easily viewed or parsed\n",
    "docs[0].page_content[0:500]"
   ]
  },
  {
   "cell_type": "code",
   "execution_count": null,
   "metadata": {},
   "outputs": [],
   "source": []
  },
  {
   "cell_type": "code",
   "execution_count": null,
   "metadata": {},
   "outputs": [],
   "source": []
  },
  {
   "cell_type": "code",
   "execution_count": null,
   "metadata": {},
   "outputs": [],
   "source": []
  },
  {
   "cell_type": "code",
   "execution_count": null,
   "metadata": {},
   "outputs": [],
   "source": []
  },
  {
   "cell_type": "code",
   "execution_count": null,
   "metadata": {},
   "outputs": [],
   "source": []
  }
 ],
 "metadata": {
  "kernelspec": {
   "display_name": "Python 3",
   "language": "python",
   "name": "python3"
  },
  "language_info": {
   "codemirror_mode": {
    "name": "ipython",
    "version": 3
   },
   "file_extension": ".py",
   "mimetype": "text/x-python",
   "name": "python",
   "nbconvert_exporter": "python",
   "pygments_lexer": "ipython3",
   "version": "3.11.4"
  }
 },
 "nbformat": 4,
 "nbformat_minor": 2
}
